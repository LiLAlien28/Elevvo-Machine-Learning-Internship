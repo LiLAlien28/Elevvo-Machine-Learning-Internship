{
 "cells": [
  {
   "cell_type": "markdown",
   "id": "a1fcfb5d-93f7-46c9-81a3-909652f78827",
   "metadata": {},
   "source": [
    "# Task 4: Loan Approval Prediction Description"
   ]
  },
  {
   "cell_type": "code",
   "execution_count": 4,
   "id": "680d1942-11c8-4963-94ed-9ed3c5f71a2f",
   "metadata": {},
   "outputs": [],
   "source": [
    "# Import necessary libraries for data processing, modeling, and evaluation\n",
    "import numpy as np\n",
    "import pandas as pd\n",
    "import matplotlib.pyplot as plt\n",
    "import seaborn as sns\n",
    "from sklearn.model_selection import train_test_split\n",
    "from sklearn.preprocessing import StandardScaler, LabelEncoder\n",
    "from sklearn.impute import SimpleImputer\n",
    "from sklearn.linear_model import LogisticRegression\n",
    "from sklearn.tree import DecisionTreeClassifier\n",
    "from sklearn.metrics import classification_report, confusion_matrix, accuracy_score, precision_score, recall_score, f1_score\n",
    "from imblearn.over_sampling import SMOTE\n",
    "from collections import Counter\n",
    "import warnings\n",
    "warnings.filterwarnings('ignore')\n",
    "\n",
    "# Set style for plots\n",
    "plt.style.use('ggplot')\n",
    "sns.set_palette(\"Set2\")"
   ]
  },
  {
   "cell_type": "markdown",
   "id": "d5a4d944-ce38-4acd-98cc-fc4ab7f9808c",
   "metadata": {},
   "source": [
    "### Step 1: Load and explore the dataset"
   ]
  },
  {
   "cell_type": "code",
   "execution_count": 5,
   "id": "9d6023a7-d127-4cfa-8310-33ec8830091b",
   "metadata": {},
   "outputs": [
    {
     "name": "stdout",
     "output_type": "stream",
     "text": [
      "=== STEP 1: LOADING AND EXPLORING DATA ===\n",
      "Dataset loaded successfully!\n",
      "\n",
      "Data preview:\n",
      "Shape: (4269, 13)\n",
      "Columns: ['Loan_Id', 'No_Of_Dependents', 'Education', 'Self_Employed', 'Income_Annum', 'Loan_Amount', 'Loan_Term', 'Cibil_Score', 'Residential_Assets_Value', 'Commercial_Assets_Value', 'Luxury_Assets_Value', 'Bank_Asset_Value', 'Loan_Status']\n",
      "\n",
      "Missing values: \n",
      " Loan_Id                     0\n",
      "No_Of_Dependents            0\n",
      "Education                   0\n",
      "Self_Employed               0\n",
      "Income_Annum                0\n",
      "Loan_Amount                 0\n",
      "Loan_Term                   0\n",
      "Cibil_Score                 0\n",
      "Residential_Assets_Value    0\n",
      "Commercial_Assets_Value     0\n",
      "Luxury_Assets_Value         0\n",
      "Bank_Asset_Value            0\n",
      "Loan_Status                 0\n",
      "dtype: int64\n",
      "\n",
      "Target distribution:\n",
      " Loan_Status\n",
      "Approved    2656\n",
      "Rejected    1613\n",
      "Name: count, dtype: int64\n"
     ]
    }
   ],
   "source": [
    "print(\"=== STEP 1: LOADING AND EXPLORING DATA ===\")\n",
    "df = pd.read_csv(\"loan_approval_dataset.csv\")\n",
    "print(\"Dataset loaded successfully!\")\n",
    "\n",
    "# Clean column names\n",
    "df.columns = df.columns.str.strip().str.replace(' ', '_').str.title()\n",
    "\n",
    "# Preview data\n",
    "print(\"\\nData preview:\")\n",
    "print(\"Shape:\", df.shape)\n",
    "print(\"Columns:\", df.columns.tolist())\n",
    "print(\"\\nMissing values: \\n\", df.isnull().sum())\n",
    "print(\"\\nTarget distribution:\\n\", df['Loan_Status'].value_counts())"
   ]
  },
  {
   "cell_type": "markdown",
   "id": "48363d8c-7227-4e8e-b024-75096961c72b",
   "metadata": {},
   "source": [
    "### Step 2: Data preprocessing"
   ]
  },
  {
   "cell_type": "code",
   "execution_count": 6,
   "id": "2d935a1a-526a-498e-9749-58101e9a099d",
   "metadata": {},
   "outputs": [
    {
     "name": "stdout",
     "output_type": "stream",
     "text": [
      "Encoded dataset shape: (4269, 12)\n",
      "Sample columns: ['No_Of_Dependents', 'Income_Annum', 'Loan_Amount', 'Loan_Term', 'Cibil_Score', 'Residential_Assets_Value', 'Commercial_Assets_Value', 'Luxury_Assets_Value', 'Bank_Asset_Value', 'Loan_Status', 'Education_ Not Graduate', 'Self_Employed_ Yes']\n"
     ]
    }
   ],
   "source": [
    "# Convert Loan_Status to binary (1 for approved, 0 for rejected)\n",
    "df['Loan_Status'] = df['Loan_Status'].str.strip().str.lower().map({'approved': 1, 'rejected': 0})\n",
    "# Identify categorical columns for encoding\n",
    "cat_cols = ['Education', 'Self_Employed']\n",
    "# Apply one-hot encoding to categorical columns, dropping the first category to avoid multicollinearity\n",
    "df_encoded = pd.get_dummies(df, columns=cat_cols, drop_first=True)\n",
    "# Drop Loan_Id as it is not relevant for modeling\n",
    "df_encoded.drop(columns=['Loan_Id'], inplace=True)\n",
    "\n",
    "print(\"Encoded dataset shape:\", df_encoded.shape)\n",
    "print(\"Sample columns:\", df_encoded.columns.tolist())"
   ]
  },
  {
   "cell_type": "markdown",
   "id": "9ea23526-a846-493f-b5c1-d1e8eedef910",
   "metadata": {},
   "source": [
    "### Step 3: Split and Scale data"
   ]
  },
  {
   "cell_type": "code",
   "execution_count": 7,
   "id": "661c243a-7f8d-4452-9608-cd7f80a2fdac",
   "metadata": {},
   "outputs": [
    {
     "name": "stdout",
     "output_type": "stream",
     "text": [
      "Train shape: (3415, 11)\n",
      "Test shape: (854, 11)\n",
      "Class distribution in train set: \n",
      " Loan_Status\n",
      "1    0.622255\n",
      "0    0.377745\n",
      "Name: proportion, dtype: float64\n"
     ]
    }
   ],
   "source": [
    "# Separate features (X) and target variable (y)\n",
    "X = df_encoded.drop(columns=['Loan_Status'])\n",
    "y = df_encoded['Loan_Status']\n",
    "X_train, X_test, y_train, y_test = train_test_split(X, y, test_size=0.2, stratify=y, random_state=42)\n",
    "\n",
    "# Initialize StandardScaler to standardize features\n",
    "scaler = StandardScaler()\n",
    "X_train_scaled = scaler.fit_transform(X_train)\n",
    "X_test_scaled = scaler.transform(X_test)\n",
    "\n",
    "# Display shapes of train/test sets and class distribution in training set\n",
    "print(\"Train shape:\", X_train.shape)\n",
    "print(\"Test shape:\", X_test.shape)\n",
    "print(\"Class distribution in train set: \\n\", y_train.value_counts(normalize=True))"
   ]
  },
  {
   "cell_type": "markdown",
   "id": "9ce33222-7c4c-4ba7-aa6b-179e76b4f837",
   "metadata": {},
   "source": [
    "### Step 4: Train and evaluate Logistic Regression"
   ]
  },
  {
   "cell_type": "code",
   "execution_count": 8,
   "id": "8961fa00-30c1-4169-ba05-9a0433195c2c",
   "metadata": {},
   "outputs": [
    {
     "name": "stdout",
     "output_type": "stream",
     "text": [
      "Logistic Regression Performance:\n",
      "[[280  43]\n",
      " [ 31 500]]\n",
      "              precision    recall  f1-score   support\n",
      "\n",
      "           0      0.900     0.867     0.883       323\n",
      "           1      0.921     0.942     0.931       531\n",
      "\n",
      "    accuracy                          0.913       854\n",
      "   macro avg      0.911     0.904     0.907       854\n",
      "weighted avg      0.913     0.913     0.913       854\n",
      "\n"
     ]
    }
   ],
   "source": [
    "# Initialize Logistic Regression model with fixed random state for reproducibility\n",
    "logreg = LogisticRegression(random_state=42)\n",
    "logreg.fit(X_train_scaled, y_train)\n",
    "y_pred_lr = logreg.predict(X_test_scaled)\n",
    "\n",
    "# Display Logistic Regression performance metrics\n",
    "print(\"Logistic Regression Performance:\")\n",
    "print(confusion_matrix(y_test, y_pred_lr))\n",
    "print(classification_report(y_test, y_pred_lr, digits=3))"
   ]
  },
  {
   "cell_type": "markdown",
   "id": "57ca108f-f9d2-475e-bdee-2042d061ccc2",
   "metadata": {},
   "source": [
    "### Step 5: Train and evaluate Decision Tree"
   ]
  },
  {
   "cell_type": "code",
   "execution_count": 9,
   "id": "3ad3959a-3f1a-41e1-a066-a9a6cfae7f14",
   "metadata": {},
   "outputs": [
    {
     "name": "stdout",
     "output_type": "stream",
     "text": [
      "Decision Tree Performance:\n",
      "[[314   9]\n",
      " [  5 526]]\n",
      "              precision    recall  f1-score   support\n",
      "\n",
      "           0      0.984     0.972     0.978       323\n",
      "           1      0.983     0.991     0.987       531\n",
      "\n",
      "    accuracy                          0.984       854\n",
      "   macro avg      0.984     0.981     0.983       854\n",
      "weighted avg      0.984     0.984     0.984       854\n",
      "\n"
     ]
    }
   ],
   "source": [
    "# Initialize Decision Tree model with fixed random state\n",
    "tree = DecisionTreeClassifier(random_state=42)\n",
    "tree.fit(X_train, y_train)\n",
    "y_pred_tree = tree.predict(X_test)\n",
    "\n",
    "# Display Decision Tree performance metrics\n",
    "print(\"Decision Tree Performance:\")\n",
    "print(confusion_matrix(y_test, y_pred_tree))\n",
    "print(classification_report(y_test, y_pred_tree, digits=3))"
   ]
  },
  {
   "cell_type": "markdown",
   "id": "102e4023-955b-4a2f-8a2d-2f6abb1f0206",
   "metadata": {},
   "source": [
    "### Step 6: Apply SMOTE to training data"
   ]
  },
  {
   "cell_type": "code",
   "execution_count": 10,
   "id": "1169fd63-c359-48e6-bb9d-cd21760bed0b",
   "metadata": {},
   "outputs": [
    {
     "name": "stdout",
     "output_type": "stream",
     "text": [
      "After SMOTE class distribution:\n",
      " Loan_Status\n",
      "1    2125\n",
      "0    2125\n",
      "Name: count, dtype: int64\n"
     ]
    }
   ],
   "source": [
    "# Initialize SMOTE to oversample minority class in training data to address class imbalance\n",
    "smote = SMOTE(random_state=42)\n",
    "X_train_smote, y_train_smote = smote.fit_resample(X_train_scaled, y_train)\n",
    "print(\"After SMOTE class distribution:\\n\", pd.Series(y_train_smote).value_counts())"
   ]
  },
  {
   "cell_type": "markdown",
   "id": "82e18bea-e711-48b5-aedb-739dc7059de9",
   "metadata": {},
   "source": [
    "### Step 7: Retrain and evaluate Logistic Regression with SMOTE"
   ]
  },
  {
   "cell_type": "code",
   "execution_count": 11,
   "id": "feda5b5e-18f1-4be3-a152-e7dad36becb8",
   "metadata": {},
   "outputs": [
    {
     "name": "stdout",
     "output_type": "stream",
     "text": [
      "Logistic Regression (SMOTE) Performance:\n",
      "[[298  25]\n",
      " [ 41 490]]\n",
      "              precision    recall  f1-score   support\n",
      "\n",
      "           0      0.879     0.923     0.900       323\n",
      "           1      0.951     0.923     0.937       531\n",
      "\n",
      "    accuracy                          0.923       854\n",
      "   macro avg      0.915     0.923     0.919       854\n",
      "weighted avg      0.924     0.923     0.923       854\n",
      "\n"
     ]
    }
   ],
   "source": [
    "# Initialize new Logistic Regression model for SMOTE data\n",
    "logreg_smote = LogisticRegression(random_state=42)\n",
    "logreg_smote.fit(X_train_smote, y_train_smote)\n",
    "y_pred_lr_smote = logreg_smote.predict(X_test_scaled)\n",
    "\n",
    "# Display Logistic Regression performance with SMOTE\n",
    "print(\"Logistic Regression (SMOTE) Performance:\")\n",
    "print(confusion_matrix(y_test, y_pred_lr_smote))\n",
    "print(classification_report(y_test, y_pred_lr_smote, digits=3))"
   ]
  },
  {
   "cell_type": "markdown",
   "id": "7a05390a-e16a-4627-bba6-63f6d285f7ee",
   "metadata": {},
   "source": [
    "### Step 8: Apply SMOTE to Decision Tree training data"
   ]
  },
  {
   "cell_type": "code",
   "execution_count": 12,
   "id": "90148ed5-ca1c-4204-b544-23dffb9be1ab",
   "metadata": {},
   "outputs": [],
   "source": [
    "# Apply SMOTE to unscaled training data for Decision Tree\n",
    "X_train_tree, y_train_tree = smote.fit_resample(X_train, y_train)"
   ]
  },
  {
   "cell_type": "markdown",
   "id": "66bddb72-b1fd-4143-b21f-bf82d9420d48",
   "metadata": {},
   "source": [
    "### Step 9: Retrain and evaluate Decision Tree with SMOTE"
   ]
  },
  {
   "cell_type": "code",
   "execution_count": 13,
   "id": "4934ed7e-b653-4a87-b590-a6cd0ea72eb3",
   "metadata": {},
   "outputs": [
    {
     "name": "stdout",
     "output_type": "stream",
     "text": [
      "Decision Tree (SMOTE) Performance:\n",
      "[[314   9]\n",
      " [  8 523]]\n",
      "              precision    recall  f1-score   support\n",
      "\n",
      "           0      0.975     0.972     0.974       323\n",
      "           1      0.983     0.985     0.984       531\n",
      "\n",
      "    accuracy                          0.980       854\n",
      "   macro avg      0.979     0.979     0.979       854\n",
      "weighted avg      0.980     0.980     0.980       854\n",
      "\n"
     ]
    }
   ],
   "source": [
    "# Initialize new Decision Tree model for SMOTE data\n",
    "tree_smote = DecisionTreeClassifier(random_state=42)\n",
    "tree_smote.fit(X_train_tree, y_train_tree)\n",
    "y_pred_tree_smote = tree_smote.predict(X_test)\n",
    "\n",
    "# Display Decision Tree performance with SMOTE\n",
    "print(\"Decision Tree (SMOTE) Performance:\")\n",
    "print(confusion_matrix(y_test, y_pred_tree_smote))\n",
    "print(classification_report(y_test, y_pred_tree_smote, digits=3))"
   ]
  },
  {
   "cell_type": "markdown",
   "id": "5ffda924-7e1a-4ecd-8ccf-afa9bd20f59d",
   "metadata": {},
   "source": [
    "## **Insights Summary**\n",
    "- Significant class imbalance detected in loan approval data\n",
    "- SMOTE effectively improved minority class (rejected loans) detection\n",
    "- Decision Tree achieved higher overall accuracy\n",
    "- Logistic Regression provided better precision-recall balance\n",
    "- Logistic Regression more suitable for risk-sensitive loan decisions"
   ]
  }
 ],
 "metadata": {
  "kernelspec": {
   "display_name": "Python [conda env:base] *",
   "language": "python",
   "name": "conda-base-py"
  },
  "language_info": {
   "codemirror_mode": {
    "name": "ipython",
    "version": 3
   },
   "file_extension": ".py",
   "mimetype": "text/x-python",
   "name": "python",
   "nbconvert_exporter": "python",
   "pygments_lexer": "ipython3",
   "version": "3.13.5"
  }
 },
 "nbformat": 4,
 "nbformat_minor": 5
}
